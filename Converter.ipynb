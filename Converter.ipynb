import sys
sys.path.append('/Library/Frameworks/Python.framework/Versions/3.7/lib/python3.7/site-packages')
import csv
import pandas as pd

with open('asana.csv', newline=''_ as csvfile
          
