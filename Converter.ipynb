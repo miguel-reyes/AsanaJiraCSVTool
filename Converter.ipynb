from os import listdir
import sys
sys.path.append('/Library/Frameworks/Python.framework/Versions/3.7/lib/python3.7/site-packages')
import csv
import pandas as pd

def find_csv_filenames( path_to_dir, suffix=".csv" ):
    filenames = listdir(path_to_dir)
    return [ filename for filename in filenames if filename.endswith( suffix ) ]

#with open('asana.csv', newline=''_ as csvfile
          
